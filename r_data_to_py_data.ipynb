{
 "cells": [
  {
   "cell_type": "markdown",
   "id": "7cad1ea4-877d-4b85-9143-67ae1f46f04a",
   "metadata": {},
   "source": [
    "# Check and preprocessing stroke outcome data from the R project"
   ]
  },
  {
   "cell_type": "markdown",
   "id": "2fbcbe17-ca8f-474d-9e51-8d30134a2949",
   "metadata": {},
   "source": [
    "The data in the R projects is held as serialised RData.  Preprocessing to convert to a clean CSV and python, pandas, numpy compatible format is below\n",
    "\n",
    "## R commands\n",
    "\n",
    "I ran the following code in R.  This opens the RData and writes as CSV files.   The code was run from within the R project directory.\n",
    "\n",
    "> Note: I needed to use a mix of functions to get it to output something sensible.  SSNAP and OUTCOMES use the R built-in for writing a CSV.  DEATH.r is an R dataframe and worked better with `readr.write_csv()`\n",
    "\n",
    "```R\n",
    "> SSNAP.r <- readRDS(\"data/ssnap.RData\")\n",
    "> OUTCOMES.r <- readRDS(\"data/HERMES.RData\")\n",
    "> DEATH.r <- readRDS(\"data/gg2.deaths.RData\")\n",
    "\n",
    "> write.csv(SSNAP.r, 'SSNAP.csv')\n",
    "> write.csv(OUTCOMES.r, 'OUTCOMES.csv')\n",
    "> library(readr)\n",
    "> write_csv(DEATH.r, 'DEATH.csv')\n",
    "```"
   ]
  },
  {
   "cell_type": "markdown",
   "id": "7721ac43-94f0-4d71-b662-608c257d8bd2",
   "metadata": {},
   "source": [
    "## Imports"
   ]
  },
  {
   "cell_type": "code",
   "execution_count": 1,
   "id": "84bc0b22-e02e-4fbc-9ade-6895a7a6105d",
   "metadata": {},
   "outputs": [],
   "source": [
    "import pandas as pd\n",
    "import numpy as np"
   ]
  },
  {
   "cell_type": "markdown",
   "id": "0e212e77-9977-4421-a514-81a78ef8430a",
   "metadata": {},
   "source": [
    "## Constants\n",
    "\n",
    "Replace these URL's with path to your copy of files."
   ]
  },
  {
   "cell_type": "code",
   "execution_count": 2,
   "id": "a40f97e5-5157-4d72-b968-1b60d3339a78",
   "metadata": {},
   "outputs": [],
   "source": [
    "DEFAULT_SSNAP_CSV = '../stroke_data/SSNAP.csv'\n",
    "DEFAULT_OUTCOME_CSV = '../stroke_data/OUTCOMES.csv'\n",
    "DEFAULT_DEATH_CSV = '../stroke_data/DEATH.csv'"
   ]
  },
  {
   "cell_type": "markdown",
   "id": "2f509065-6203-44fd-8d17-3446e0e2bb34",
   "metadata": {},
   "source": [
    "## SSNAP\n",
    "\n",
    "First check it loads okay and inspect datatypes"
   ]
  },
  {
   "cell_type": "code",
   "execution_count": 3,
   "id": "3b34f4a9-ad78-47b5-94c0-07eb337d3a8f",
   "metadata": {},
   "outputs": [
    {
     "name": "stdout",
     "output_type": "stream",
     "text": [
      "<class 'pandas.core.frame.DataFrame'>\n",
      "Int64Index: 437 entries, 1 to 437\n",
      "Data columns (total 1 columns):\n",
      " #   Column  Non-Null Count  Dtype  \n",
      "---  ------  --------------  -----  \n",
      " 0   x       437 non-null    float64\n",
      "dtypes: float64(1)\n",
      "memory usage: 6.8 KB\n"
     ]
    }
   ],
   "source": [
    "ssnap = pd.read_csv(DEFAULT_SSNAP_CSV, index_col=0)\n",
    "ssnap.info()"
   ]
  },
  {
   "cell_type": "markdown",
   "id": "054c58ba-840d-4a42-9f5c-56692db47d09",
   "metadata": {},
   "source": [
    "Pandas has read data in as a `float64`.  Check for R precision issues on export to csv found that some integers end up as x.99999999"
   ]
  },
  {
   "cell_type": "code",
   "execution_count": 4,
   "id": "43fa1d06-5729-4101-b026-ad32123fdf09",
   "metadata": {},
   "outputs": [
    {
     "name": "stdout",
     "output_type": "stream",
     "text": [
      "(63, 1)\n",
      "[[74.99999999]\n",
      " [76.00000001]\n",
      " [74.99999999]\n",
      " [68.99999999]\n",
      " [45.99999999]]\n"
     ]
    }
   ],
   "source": [
    "rounding_issues = ssnap.to_numpy()[np.floor(ssnap['x'].to_numpy()) \n",
    "                                   != ssnap['x'].to_numpy()]\n",
    "\n",
    "print(rounding_issues.shape)\n",
    "print(rounding_issues[:5])"
   ]
  },
  {
   "cell_type": "code",
   "execution_count": 5,
   "id": "574b4fe9-f73f-4971-9d60-5a917d946096",
   "metadata": {},
   "outputs": [
    {
     "data": {
      "text/html": [
       "<div>\n",
       "<style scoped>\n",
       "    .dataframe tbody tr th:only-of-type {\n",
       "        vertical-align: middle;\n",
       "    }\n",
       "\n",
       "    .dataframe tbody tr th {\n",
       "        vertical-align: top;\n",
       "    }\n",
       "\n",
       "    .dataframe thead th {\n",
       "        text-align: right;\n",
       "    }\n",
       "</style>\n",
       "<table border=\"1\" class=\"dataframe\">\n",
       "  <thead>\n",
       "    <tr style=\"text-align: right;\">\n",
       "      <th></th>\n",
       "      <th>x</th>\n",
       "    </tr>\n",
       "  </thead>\n",
       "  <tbody>\n",
       "    <tr>\n",
       "      <th>1</th>\n",
       "      <td>117.0</td>\n",
       "    </tr>\n",
       "    <tr>\n",
       "      <th>2</th>\n",
       "      <td>50.0</td>\n",
       "    </tr>\n",
       "    <tr>\n",
       "      <th>3</th>\n",
       "      <td>86.0</td>\n",
       "    </tr>\n",
       "    <tr>\n",
       "      <th>4</th>\n",
       "      <td>162.0</td>\n",
       "    </tr>\n",
       "    <tr>\n",
       "      <th>5</th>\n",
       "      <td>120.0</td>\n",
       "    </tr>\n",
       "  </tbody>\n",
       "</table>\n",
       "</div>"
      ],
      "text/plain": [
       "       x\n",
       "1  117.0\n",
       "2   50.0\n",
       "3   86.0\n",
       "4  162.0\n",
       "5  120.0"
      ]
     },
     "execution_count": 5,
     "metadata": {},
     "output_type": "execute_result"
    }
   ],
   "source": [
    "ssnap = ssnap.round()\n",
    "\n",
    "\n",
    "ssnap.head()"
   ]
  },
  {
   "cell_type": "markdown",
   "id": "de04a6cc-6faf-402c-96d9-1c517edd502a",
   "metadata": {},
   "source": [
    "### SSNAP cleaning function"
   ]
  },
  {
   "cell_type": "code",
   "execution_count": 6,
   "id": "85cb8078-bf04-4ffd-a3f0-2f7b5c8f09ac",
   "metadata": {},
   "outputs": [],
   "source": [
    "def clean_ssnap(path=DEFAULT_SSNAP_CSV):\n",
    "    return (pd.read_csv(path, index_col=0)\n",
    "               .round()\n",
    "               .astype({'x': np.int32}))"
   ]
  },
  {
   "cell_type": "code",
   "execution_count": 7,
   "id": "1064fae2-260a-4c8e-b7c3-3536704b333f",
   "metadata": {},
   "outputs": [
    {
     "name": "stdout",
     "output_type": "stream",
     "text": [
      "<class 'pandas.core.frame.DataFrame'>\n",
      "Int64Index: 437 entries, 1 to 437\n",
      "Data columns (total 1 columns):\n",
      " #   Column  Non-Null Count  Dtype\n",
      "---  ------  --------------  -----\n",
      " 0   x       437 non-null    int32\n",
      "dtypes: int32(1)\n",
      "memory usage: 5.1 KB\n"
     ]
    }
   ],
   "source": [
    "ssnap = clean_ssnap()\n",
    "ssnap.info()"
   ]
  },
  {
   "cell_type": "code",
   "execution_count": 8,
   "id": "5d6b1da7-fd2d-43a7-a4f4-8916bdb3b0bd",
   "metadata": {},
   "outputs": [
    {
     "data": {
      "text/html": [
       "<div>\n",
       "<style scoped>\n",
       "    .dataframe tbody tr th:only-of-type {\n",
       "        vertical-align: middle;\n",
       "    }\n",
       "\n",
       "    .dataframe tbody tr th {\n",
       "        vertical-align: top;\n",
       "    }\n",
       "\n",
       "    .dataframe thead th {\n",
       "        text-align: right;\n",
       "    }\n",
       "</style>\n",
       "<table border=\"1\" class=\"dataframe\">\n",
       "  <thead>\n",
       "    <tr style=\"text-align: right;\">\n",
       "      <th></th>\n",
       "      <th>x</th>\n",
       "    </tr>\n",
       "  </thead>\n",
       "  <tbody>\n",
       "    <tr>\n",
       "      <th>1</th>\n",
       "      <td>117</td>\n",
       "    </tr>\n",
       "    <tr>\n",
       "      <th>2</th>\n",
       "      <td>50</td>\n",
       "    </tr>\n",
       "    <tr>\n",
       "      <th>3</th>\n",
       "      <td>86</td>\n",
       "    </tr>\n",
       "  </tbody>\n",
       "</table>\n",
       "</div>"
      ],
      "text/plain": [
       "     x\n",
       "1  117\n",
       "2   50\n",
       "3   86"
      ]
     },
     "execution_count": 8,
     "metadata": {},
     "output_type": "execute_result"
    }
   ],
   "source": [
    "ssnap.head(3)"
   ]
  },
  {
   "cell_type": "markdown",
   "id": "fabfbbc4-0369-4ae0-9737-e9cf4161315a",
   "metadata": {},
   "source": [
    "## Outcomes\n",
    "\n",
    "Check it loads okay.  No variables names in the R data file!"
   ]
  },
  {
   "cell_type": "code",
   "execution_count": 9,
   "id": "1b575377-21e4-45c6-aad6-a5bb1ebf2a91",
   "metadata": {},
   "outputs": [
    {
     "name": "stdout",
     "output_type": "stream",
     "text": [
      "<class 'pandas.core.frame.DataFrame'>\n",
      "Int64Index: 600 entries, 1 to 600\n",
      "Data columns (total 7 columns):\n",
      " #   Column  Non-Null Count  Dtype  \n",
      "---  ------  --------------  -----  \n",
      " 0   V1      600 non-null    float64\n",
      " 1   V2      600 non-null    float64\n",
      " 2   V3      600 non-null    float64\n",
      " 3   V4      600 non-null    float64\n",
      " 4   V5      600 non-null    float64\n",
      " 5   V6      600 non-null    float64\n",
      " 6   V7      600 non-null    int64  \n",
      "dtypes: float64(6), int64(1)\n",
      "memory usage: 37.5 KB\n"
     ]
    }
   ],
   "source": [
    "outcomes = pd.read_csv(DEFAULT_OUTCOME_CSV, index_col=0)\n",
    "outcomes.info()"
   ]
  },
  {
   "cell_type": "code",
   "execution_count": 10,
   "id": "db3df48a-12c4-43dd-915a-c8da534dd164",
   "metadata": {},
   "outputs": [
    {
     "data": {
      "text/html": [
       "<div>\n",
       "<style scoped>\n",
       "    .dataframe tbody tr th:only-of-type {\n",
       "        vertical-align: middle;\n",
       "    }\n",
       "\n",
       "    .dataframe tbody tr th {\n",
       "        vertical-align: top;\n",
       "    }\n",
       "\n",
       "    .dataframe thead th {\n",
       "        text-align: right;\n",
       "    }\n",
       "</style>\n",
       "<table border=\"1\" class=\"dataframe\">\n",
       "  <thead>\n",
       "    <tr style=\"text-align: right;\">\n",
       "      <th></th>\n",
       "      <th>V1</th>\n",
       "      <th>V2</th>\n",
       "      <th>V3</th>\n",
       "      <th>V4</th>\n",
       "      <th>V5</th>\n",
       "      <th>V6</th>\n",
       "      <th>V7</th>\n",
       "    </tr>\n",
       "  </thead>\n",
       "  <tbody>\n",
       "    <tr>\n",
       "      <th>1</th>\n",
       "      <td>0.120000</td>\n",
       "      <td>0.300000</td>\n",
       "      <td>0.520000</td>\n",
       "      <td>0.700000</td>\n",
       "      <td>0.870000</td>\n",
       "      <td>0.930000</td>\n",
       "      <td>1</td>\n",
       "    </tr>\n",
       "    <tr>\n",
       "      <th>2</th>\n",
       "      <td>0.119866</td>\n",
       "      <td>0.299716</td>\n",
       "      <td>0.519599</td>\n",
       "      <td>0.699616</td>\n",
       "      <td>0.869750</td>\n",
       "      <td>0.929833</td>\n",
       "      <td>1</td>\n",
       "    </tr>\n",
       "    <tr>\n",
       "      <th>3</th>\n",
       "      <td>0.119733</td>\n",
       "      <td>0.299432</td>\n",
       "      <td>0.519199</td>\n",
       "      <td>0.699232</td>\n",
       "      <td>0.869499</td>\n",
       "      <td>0.929666</td>\n",
       "      <td>1</td>\n",
       "    </tr>\n",
       "    <tr>\n",
       "      <th>4</th>\n",
       "      <td>0.119599</td>\n",
       "      <td>0.299149</td>\n",
       "      <td>0.518798</td>\n",
       "      <td>0.698848</td>\n",
       "      <td>0.869249</td>\n",
       "      <td>0.929499</td>\n",
       "      <td>1</td>\n",
       "    </tr>\n",
       "    <tr>\n",
       "      <th>5</th>\n",
       "      <td>0.119466</td>\n",
       "      <td>0.298865</td>\n",
       "      <td>0.518397</td>\n",
       "      <td>0.698464</td>\n",
       "      <td>0.868998</td>\n",
       "      <td>0.929332</td>\n",
       "      <td>1</td>\n",
       "    </tr>\n",
       "  </tbody>\n",
       "</table>\n",
       "</div>"
      ],
      "text/plain": [
       "         V1        V2        V3        V4        V5        V6  V7\n",
       "1  0.120000  0.300000  0.520000  0.700000  0.870000  0.930000   1\n",
       "2  0.119866  0.299716  0.519599  0.699616  0.869750  0.929833   1\n",
       "3  0.119733  0.299432  0.519199  0.699232  0.869499  0.929666   1\n",
       "4  0.119599  0.299149  0.518798  0.698848  0.869249  0.929499   1\n",
       "5  0.119466  0.298865  0.518397  0.698464  0.868998  0.929332   1"
      ]
     },
     "execution_count": 10,
     "metadata": {},
     "output_type": "execute_result"
    }
   ],
   "source": [
    "outcomes.head()"
   ]
  },
  {
   "cell_type": "markdown",
   "id": "d6c8634f-450e-4ef7-ba20-550007c52edc",
   "metadata": {},
   "source": [
    "## Deaths\n",
    "\n",
    "A few issues with Death's interval column on import:\n",
    "\n",
    "* Death's interval column is a 1D array (using c(i,..,n) in R).  Needs to be converted to numpy array in pandas.  \n",
    "\n",
    "When read in it appears as a `object` column in `pandas`"
   ]
  },
  {
   "cell_type": "code",
   "execution_count": 11,
   "id": "7ebbfcf0-306c-4c90-8828-78eeb722a293",
   "metadata": {},
   "outputs": [
    {
     "name": "stdout",
     "output_type": "stream",
     "text": [
      "<class 'pandas.core.frame.DataFrame'>\n",
      "Int64Index: 280 entries, 1 to 40\n",
      "Data columns (total 2 columns):\n",
      " #   Column     Non-Null Count  Dtype \n",
      "---  ------     --------------  ----- \n",
      " 0   mRs        280 non-null    int64 \n",
      " 1   intervals  280 non-null    object\n",
      "dtypes: int64(1), object(1)\n",
      "memory usage: 6.6+ KB\n"
     ]
    }
   ],
   "source": [
    "deaths = pd.read_csv(DEFAULT_DEATH_CSV, index_col=0)\n",
    "deaths.info()"
   ]
  },
  {
   "cell_type": "code",
   "execution_count": 12,
   "id": "9e4302f5-43bb-4e9d-94b9-16477716c918",
   "metadata": {},
   "outputs": [
    {
     "data": {
      "text/html": [
       "<div>\n",
       "<style scoped>\n",
       "    .dataframe tbody tr th:only-of-type {\n",
       "        vertical-align: middle;\n",
       "    }\n",
       "\n",
       "    .dataframe tbody tr th {\n",
       "        vertical-align: top;\n",
       "    }\n",
       "\n",
       "    .dataframe thead th {\n",
       "        text-align: right;\n",
       "    }\n",
       "</style>\n",
       "<table border=\"1\" class=\"dataframe\">\n",
       "  <thead>\n",
       "    <tr style=\"text-align: right;\">\n",
       "      <th></th>\n",
       "      <th>mRs</th>\n",
       "      <th>intervals</th>\n",
       "    </tr>\n",
       "    <tr>\n",
       "      <th>id</th>\n",
       "      <th></th>\n",
       "      <th></th>\n",
       "    </tr>\n",
       "  </thead>\n",
       "  <tbody>\n",
       "    <tr>\n",
       "      <th>1</th>\n",
       "      <td>0</td>\n",
       "      <td>c(0, 1.09527915843621e-05, 0.00200061859353828...</td>\n",
       "    </tr>\n",
       "    <tr>\n",
       "      <th>1</th>\n",
       "      <td>1</td>\n",
       "      <td>c(0, 2.03207054714216e-05, 0.00309690512488614...</td>\n",
       "    </tr>\n",
       "  </tbody>\n",
       "</table>\n",
       "</div>"
      ],
      "text/plain": [
       "    mRs                                          intervals\n",
       "id                                                        \n",
       "1     0  c(0, 1.09527915843621e-05, 0.00200061859353828...\n",
       "1     1  c(0, 2.03207054714216e-05, 0.00309690512488614..."
      ]
     },
     "execution_count": 12,
     "metadata": {},
     "output_type": "execute_result"
    }
   ],
   "source": [
    "# note that the first value in intervals is 0 without decimals\n",
    "deaths.head(2)"
   ]
  },
  {
   "cell_type": "markdown",
   "id": "a321d7cf-c8f1-4295-bbd9-799b8384a046",
   "metadata": {},
   "source": [
    "Example convert the first row to explain how the operation works."
   ]
  },
  {
   "cell_type": "code",
   "execution_count": 13,
   "id": "a80c9b26-7378-4b31-829a-1710541fa6e7",
   "metadata": {},
   "outputs": [
    {
     "name": "stdout",
     "output_type": "stream",
     "text": [
      "original: c(0, 1.09527915843621e-05, 0.00200061859353828, \n",
      "cleaned: [0.00000000e+00 1.09527916e-05 2.00061859e-03]\n"
     ]
    }
   ],
   "source": [
    "# slice removing 'c(... )' -> split into list -> ndarray -> astype float\n",
    "example = np.array(deaths.intervals.iloc[0][2:-1].split(',')).astype(np.float64)\n",
    "print(f'original: {deaths.intervals.iloc[0][:48]}')\n",
    "print(f'cleaned: {example[0:3]}')"
   ]
  },
  {
   "cell_type": "markdown",
   "id": "7b96d09b-2c72-426c-8429-02d4b9c660df",
   "metadata": {},
   "source": [
    "the same code as a function to apply to all rows in one go."
   ]
  },
  {
   "cell_type": "code",
   "execution_count": 14,
   "id": "ecf43d20-54de-4635-95c4-bd0d95329f62",
   "metadata": {},
   "outputs": [],
   "source": [
    "def r_array_to_python_array(row):\n",
    "    return np.array(row['intervals'][2:-1].split(',')).astype(np.float64)"
   ]
  },
  {
   "cell_type": "code",
   "execution_count": 15,
   "id": "5be5655c-cb51-494d-abb7-7add96ab6f29",
   "metadata": {},
   "outputs": [
    {
     "data": {
      "text/html": [
       "<div>\n",
       "<style scoped>\n",
       "    .dataframe tbody tr th:only-of-type {\n",
       "        vertical-align: middle;\n",
       "    }\n",
       "\n",
       "    .dataframe tbody tr th {\n",
       "        vertical-align: top;\n",
       "    }\n",
       "\n",
       "    .dataframe thead th {\n",
       "        text-align: right;\n",
       "    }\n",
       "</style>\n",
       "<table border=\"1\" class=\"dataframe\">\n",
       "  <thead>\n",
       "    <tr style=\"text-align: right;\">\n",
       "      <th></th>\n",
       "      <th>mRs</th>\n",
       "      <th>intervals</th>\n",
       "    </tr>\n",
       "    <tr>\n",
       "      <th>id</th>\n",
       "      <th></th>\n",
       "      <th></th>\n",
       "    </tr>\n",
       "  </thead>\n",
       "  <tbody>\n",
       "    <tr>\n",
       "      <th>1</th>\n",
       "      <td>0</td>\n",
       "      <td>[0.0, 1.09527915843621e-05, 0.0020006185935382...</td>\n",
       "    </tr>\n",
       "    <tr>\n",
       "      <th>1</th>\n",
       "      <td>1</td>\n",
       "      <td>[0.0, 2.03207054714216e-05, 0.0030969051248861...</td>\n",
       "    </tr>\n",
       "  </tbody>\n",
       "</table>\n",
       "</div>"
      ],
      "text/plain": [
       "    mRs                                          intervals\n",
       "id                                                        \n",
       "1     0  [0.0, 1.09527915843621e-05, 0.0020006185935382...\n",
       "1     1  [0.0, 2.03207054714216e-05, 0.0030969051248861..."
      ]
     },
     "execution_count": 15,
     "metadata": {},
     "output_type": "execute_result"
    }
   ],
   "source": [
    "deaths['intervals'] = deaths.apply(lambda row : r_array_to_python_array(row), \n",
    "                                   axis=1)\n",
    "deaths.head(2)"
   ]
  },
  {
   "cell_type": "code",
   "execution_count": 16,
   "id": "9164c71d-b98a-4284-a26a-a7aaddeb0306",
   "metadata": {},
   "outputs": [
    {
     "name": "stdout",
     "output_type": "stream",
     "text": [
      "<class 'numpy.ndarray'>\n",
      "(489,)\n"
     ]
    }
   ],
   "source": [
    "# quick check\n",
    "SELECTED_INDEX = 0\n",
    "print(type(deaths.iloc[SELECTED_INDEX]['intervals']))\n",
    "print(deaths.iloc[SELECTED_INDEX]['intervals'].shape)"
   ]
  },
  {
   "cell_type": "markdown",
   "id": "005698f3-92de-4641-8024-a8da70e7dd43",
   "metadata": {},
   "source": [
    "### Final Deaths cleaning code."
   ]
  },
  {
   "cell_type": "code",
   "execution_count": 17,
   "id": "bc2fc339-92be-44ea-a891-824a3bd669be",
   "metadata": {},
   "outputs": [],
   "source": [
    "def clean_intervals(df):\n",
    "    df['intervals'] = df.apply(lambda row : r_array_to_python_array(row), \n",
    "                                       axis=1)\n",
    "    return df"
   ]
  },
  {
   "cell_type": "code",
   "execution_count": 18,
   "id": "acf1560e-bdd0-4944-8647-92ed005c0f1f",
   "metadata": {},
   "outputs": [],
   "source": [
    "def clean_deaths(path=DEFAULT_DEATH_CSV):\n",
    "    return (pd.read_csv(path, index_col=0)\n",
    "              .astype({'mRs': np.int8})\n",
    "              .pipe(clean_intervals))"
   ]
  },
  {
   "cell_type": "code",
   "execution_count": 19,
   "id": "72b1d6c7-1d2d-49c9-b6b9-fa85d389db9c",
   "metadata": {},
   "outputs": [
    {
     "name": "stdout",
     "output_type": "stream",
     "text": [
      "<class 'pandas.core.frame.DataFrame'>\n",
      "Int64Index: 280 entries, 1 to 40\n",
      "Data columns (total 2 columns):\n",
      " #   Column     Non-Null Count  Dtype \n",
      "---  ------     --------------  ----- \n",
      " 0   mRs        280 non-null    int8  \n",
      " 1   intervals  280 non-null    object\n",
      "dtypes: int8(1), object(1)\n",
      "memory usage: 4.6+ KB\n"
     ]
    }
   ],
   "source": [
    "deaths = clean_deaths()\n",
    "deaths.info()"
   ]
  },
  {
   "cell_type": "code",
   "execution_count": 20,
   "id": "d2223811-6f1e-431f-aafc-f169a659e232",
   "metadata": {},
   "outputs": [
    {
     "data": {
      "text/html": [
       "<div>\n",
       "<style scoped>\n",
       "    .dataframe tbody tr th:only-of-type {\n",
       "        vertical-align: middle;\n",
       "    }\n",
       "\n",
       "    .dataframe tbody tr th {\n",
       "        vertical-align: top;\n",
       "    }\n",
       "\n",
       "    .dataframe thead th {\n",
       "        text-align: right;\n",
       "    }\n",
       "</style>\n",
       "<table border=\"1\" class=\"dataframe\">\n",
       "  <thead>\n",
       "    <tr style=\"text-align: right;\">\n",
       "      <th></th>\n",
       "      <th>mRs</th>\n",
       "      <th>intervals</th>\n",
       "    </tr>\n",
       "    <tr>\n",
       "      <th>id</th>\n",
       "      <th></th>\n",
       "      <th></th>\n",
       "    </tr>\n",
       "  </thead>\n",
       "  <tbody>\n",
       "    <tr>\n",
       "      <th>1</th>\n",
       "      <td>0</td>\n",
       "      <td>[0.0, 1.09527915843621e-05, 0.0020006185935382...</td>\n",
       "    </tr>\n",
       "    <tr>\n",
       "      <th>1</th>\n",
       "      <td>1</td>\n",
       "      <td>[0.0, 2.03207054714216e-05, 0.0030969051248861...</td>\n",
       "    </tr>\n",
       "  </tbody>\n",
       "</table>\n",
       "</div>"
      ],
      "text/plain": [
       "    mRs                                          intervals\n",
       "id                                                        \n",
       "1     0  [0.0, 1.09527915843621e-05, 0.0020006185935382...\n",
       "1     1  [0.0, 2.03207054714216e-05, 0.0030969051248861..."
      ]
     },
     "execution_count": 20,
     "metadata": {},
     "output_type": "execute_result"
    }
   ],
   "source": [
    "deaths.head(2)"
   ]
  },
  {
   "cell_type": "markdown",
   "id": "55412818-d27a-4a4e-9cba-c1c019f90911",
   "metadata": {},
   "source": [
    "## Complete listing without explanations."
   ]
  },
  {
   "cell_type": "code",
   "execution_count": 21,
   "id": "e1a74bb2-f747-49f3-9b37-194b995f4446",
   "metadata": {},
   "outputs": [],
   "source": [
    "import pandas as pd\n",
    "import numpy as np\n",
    "\n",
    "# default locations of stroke outcome data csv files\n",
    "DEFAULT_SSNAP_CSV = '../stroke_data/SSNAP.csv'\n",
    "DEFAULT_OUTCOME_CSV = '../stroke_data/OUTCOMES.csv'\n",
    "DEFAULT_DEATH_CSV = '../stroke_data/DEATH.csv'\n",
    "\n",
    "def clean_ssnap(path=DEFAULT_SSNAP_CSV):\n",
    "    '''\n",
    "    Load and clean SSNAP data.  Rounding up fixes odd precision issue.\n",
    "    \n",
    "    Params:\n",
    "    -----\n",
    "    path: str, optional\n",
    "        path/URL to outcome data CSV that was outputted from R\n",
    "    \n",
    "    Returns:\n",
    "    --------\n",
    "    pd.DataFrame\n",
    "    '''\n",
    "    return (pd.read_csv(path, index_col=0)\n",
    "               .round()\n",
    "               .astype({'x': np.int32}))\n",
    "\n",
    "def clean_outcomes(path=DEFAULT_OUTCOME_CSV):\n",
    "    '''\n",
    "    Load and clean HERMES outcome data.  \n",
    "    \n",
    "    Params:\n",
    "    -----\n",
    "    path: str, optional\n",
    "        path/URL to outcome data CSV that was outputted from R\n",
    "    \n",
    "    Returns:\n",
    "    --------\n",
    "    pd.DataFrame\n",
    "    '''\n",
    "    return (pd.read_csv(path, index_col=0))\n",
    "\n",
    "def r_array_to_python_array(row):\n",
    "    '''\n",
    "    Converts R array in str format `c(i, ..., n)` to numpy.ndarray\n",
    "    \n",
    "    Params:\n",
    "    ------\n",
    "    row: pandas.Series\n",
    "        Row of pandas dataframe\n",
    "        \n",
    "    Returns:\n",
    "    -------\n",
    "    np.ndarray\n",
    "    '''\n",
    "    return np.array(row['intervals'][2:-1].split(',')).astype(np.float64)\n",
    "\n",
    "def clean_intervals(df):\n",
    "    '''\n",
    "    Clean the intervals column in a pandas.DataFrame of DEATHS.r\n",
    "    \n",
    "    Params:\n",
    "    ------\n",
    "    df: pd.Dataframe\n",
    "        Full dataframe of DEATHS.r\n",
    "        \n",
    "    Returns:\n",
    "    --------\n",
    "    pd.DataFrame\n",
    "        \n",
    "    '''\n",
    "    df['intervals'] = df.apply(lambda row : r_array_to_python_array(row), \n",
    "                                       axis=1)\n",
    "    return df\n",
    "\n",
    "def clean_deaths(path=DEFAULT_DEATH_CSV):\n",
    "    '''\n",
    "    Load and clean DEATHS.r \n",
    "    Intervals are stored as strings used to create R arrays 'c(...)'.  These\n",
    "    are converted to np.ndarrays held in a DataFrame cell.\n",
    "    \n",
    "    Params:\n",
    "    -----\n",
    "    path: str, optional\n",
    "        path/URL to Death data CSV that was outputted from R\n",
    "    \n",
    "    Returns:\n",
    "    --------\n",
    "    pd.DataFrame\n",
    "    '''\n",
    "    return (pd.read_csv(path, index_col=0)\n",
    "              .astype({'mRs': np.int8})\n",
    "              .pipe(clean_intervals))\n",
    "\n",
    "\n",
    "def stroke_outcome_data(ssnap_csv=DEFAULT_SSNAP_CSV, \n",
    "                        outcome_csv=DEFAULT_OUTCOME_CSV,\n",
    "                        death_csv=DEFAULT_DEATH_CSV):\n",
    "    \n",
    "        ssnap = clean_ssnap(ssnap_csv)\n",
    "        outcomes = clean_outcomes(outcome_csv)\n",
    "        deaths = clean_deaths(death_csv)\n",
    "        return ssnap, outcomes, deaths\n",
    "   \n",
    "    "
   ]
  },
  {
   "cell_type": "code",
   "execution_count": 22,
   "id": "0b580767-d8f2-4182-987a-ef5062163bad",
   "metadata": {},
   "outputs": [],
   "source": [
    "ssnap, outcomes, deaths = stroke_outcome_data()"
   ]
  },
  {
   "cell_type": "code",
   "execution_count": 23,
   "id": "35e9e6f9-d1da-4e8e-9c01-503dd7f172e2",
   "metadata": {},
   "outputs": [
    {
     "name": "stdout",
     "output_type": "stream",
     "text": [
      "<class 'pandas.core.frame.DataFrame'>\n",
      "Int64Index: 437 entries, 1 to 437\n",
      "Data columns (total 1 columns):\n",
      " #   Column  Non-Null Count  Dtype\n",
      "---  ------  --------------  -----\n",
      " 0   x       437 non-null    int32\n",
      "dtypes: int32(1)\n",
      "memory usage: 5.1 KB\n"
     ]
    }
   ],
   "source": [
    "ssnap.info()"
   ]
  },
  {
   "cell_type": "code",
   "execution_count": 24,
   "id": "132b5985-c4dd-4862-a38a-b4e8994ab7a9",
   "metadata": {},
   "outputs": [
    {
     "name": "stdout",
     "output_type": "stream",
     "text": [
      "<class 'pandas.core.frame.DataFrame'>\n",
      "Int64Index: 600 entries, 1 to 600\n",
      "Data columns (total 7 columns):\n",
      " #   Column  Non-Null Count  Dtype  \n",
      "---  ------  --------------  -----  \n",
      " 0   V1      600 non-null    float64\n",
      " 1   V2      600 non-null    float64\n",
      " 2   V3      600 non-null    float64\n",
      " 3   V4      600 non-null    float64\n",
      " 4   V5      600 non-null    float64\n",
      " 5   V6      600 non-null    float64\n",
      " 6   V7      600 non-null    int64  \n",
      "dtypes: float64(6), int64(1)\n",
      "memory usage: 37.5 KB\n"
     ]
    }
   ],
   "source": [
    "outcomes.info()"
   ]
  },
  {
   "cell_type": "code",
   "execution_count": 25,
   "id": "f64be019-eb78-4b07-adc6-2b656cc32b9a",
   "metadata": {},
   "outputs": [
    {
     "name": "stdout",
     "output_type": "stream",
     "text": [
      "<class 'pandas.core.frame.DataFrame'>\n",
      "Int64Index: 280 entries, 1 to 40\n",
      "Data columns (total 2 columns):\n",
      " #   Column     Non-Null Count  Dtype \n",
      "---  ------     --------------  ----- \n",
      " 0   mRs        280 non-null    int8  \n",
      " 1   intervals  280 non-null    object\n",
      "dtypes: int8(1), object(1)\n",
      "memory usage: 4.6+ KB\n"
     ]
    }
   ],
   "source": [
    "deaths.info()"
   ]
  },
  {
   "cell_type": "code",
   "execution_count": 26,
   "id": "c48a154d-b061-4c10-a512-47a12558c5f8",
   "metadata": {},
   "outputs": [],
   "source": [
    "ssnap.to_csv('../stroke_data/clean_ssnap.csv')\n",
    "outcomes.to_csv('../stroke_data/clean_outcomes.csv')\n",
    "deaths.to_csv('../stroke_data/clean_deaths.csv')"
   ]
  }
 ],
 "metadata": {
  "kernelspec": {
   "display_name": "Python 3 (ipykernel)",
   "language": "python",
   "name": "python3"
  },
  "language_info": {
   "codemirror_mode": {
    "name": "ipython",
    "version": 3
   },
   "file_extension": ".py",
   "mimetype": "text/x-python",
   "name": "python",
   "nbconvert_exporter": "python",
   "pygments_lexer": "ipython3",
   "version": "3.8.8"
  }
 },
 "nbformat": 4,
 "nbformat_minor": 5
}
